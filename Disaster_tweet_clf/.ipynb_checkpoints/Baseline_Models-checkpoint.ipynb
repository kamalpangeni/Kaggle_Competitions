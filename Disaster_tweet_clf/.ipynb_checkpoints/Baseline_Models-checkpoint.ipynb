{
 "cells": [
  {
   "cell_type": "markdown",
   "metadata": {},
   "source": [
    "## NLP With Distaster Tweets\n",
    "### Aurthor: Kamal Pangeni\n",
    "Ref: https://www.kaggle.com/c/nlp-getting-started"
   ]
  },
  {
   "cell_type": "code",
   "execution_count": 1,
   "metadata": {
    "_cell_guid": "b1076dfc-b9ad-4769-8c92-a6c4dae69d19",
    "_uuid": "8f2839f25d086af736a60e9eeb907d3b93b6e0e5"
   },
   "outputs": [
    {
     "name": "stdout",
     "output_type": "stream",
     "text": [
      "/kaggle/input/nlp-getting-started/train.csv\n",
      "/kaggle/input/nlp-getting-started/test.csv\n",
      "/kaggle/input/nlp-getting-started/sample_submission.csv\n"
     ]
    }
   ],
   "source": [
    "# This Python 3 environment comes with many helpful analytics libraries installed\n",
    "# It is defined by the kaggle/python docker image: https://github.com/kaggle/docker-python\n",
    "# For example, here's several helpful packages to load in \n",
    "\n",
    "import numpy as np # linear algebra\n",
    "import pandas as pd # data processing, CSV file I/O (e.g. pd.read_csv)\n",
    "\n",
    "# Input data files are available in the \"../input/\" directory.\n",
    "# For example, running this (by clicking run or pressing Shift+Enter) will list all files under the input directory\n",
    "\n",
    "import os\n",
    "for dirname, _, filenames in os.walk('/kaggle/input'):\n",
    "    for filename in filenames:\n",
    "        print(os.path.join(dirname, filename))\n",
    "\n",
    "# Any results you write to the current directory are saved as output."
   ]
  },
  {
   "cell_type": "code",
   "execution_count": 2,
   "metadata": {},
   "outputs": [],
   "source": [
    "import string\n",
    "import nltk\n",
    "import re\n",
    "import xgboost as xgb\n",
    "import seaborn as sns\n",
    "from nltk.corpus import stopwords\n",
    "from nltk.stem.porter import PorterStemmer\n",
    "from sklearn.ensemble import RandomForestClassifier\n",
    "from sklearn.model_selection import GridSearchCV, train_test_split\n",
    "from sklearn.feature_extraction.text import TfidfVectorizer\n",
    "from sklearn.metrics import classification_report, confusion_matrix, accuracy_score,make_scorer\n",
    "import matplotlib.pyplot as plt\n",
    "%matplotlib inline\n",
    "\n",
    "PUNCT_TO_REMOVE = string.punctuation\n",
    "STOPWORDS = set(stopwords.words('english'))\n",
    "stemmer = PorterStemmer()"
   ]
  },
  {
   "cell_type": "code",
   "execution_count": 3,
   "metadata": {
    "_cell_guid": "79c7e3d0-c299-4dcb-8224-4455121ee9b0",
    "_uuid": "d629ff2d2480ee46fbb7e2d37f6b5fab8052498a"
   },
   "outputs": [],
   "source": [
    "# import training data\n",
    "df_train = pd.read_csv('../input/nlp-getting-started/train.csv')\n",
    "df_test = pd.read_csv('../input/nlp-getting-started/test.csv')"
   ]
  },
  {
   "cell_type": "code",
   "execution_count": 4,
   "metadata": {},
   "outputs": [
    {
     "data": {
      "text/html": [
       "<div>\n",
       "<style scoped>\n",
       "    .dataframe tbody tr th:only-of-type {\n",
       "        vertical-align: middle;\n",
       "    }\n",
       "\n",
       "    .dataframe tbody tr th {\n",
       "        vertical-align: top;\n",
       "    }\n",
       "\n",
       "    .dataframe thead th {\n",
       "        text-align: right;\n",
       "    }\n",
       "</style>\n",
       "<table border=\"1\" class=\"dataframe\">\n",
       "  <thead>\n",
       "    <tr style=\"text-align: right;\">\n",
       "      <th></th>\n",
       "      <th>id</th>\n",
       "      <th>keyword</th>\n",
       "      <th>location</th>\n",
       "      <th>text</th>\n",
       "      <th>target</th>\n",
       "    </tr>\n",
       "  </thead>\n",
       "  <tbody>\n",
       "    <tr>\n",
       "      <th>0</th>\n",
       "      <td>1</td>\n",
       "      <td>NaN</td>\n",
       "      <td>NaN</td>\n",
       "      <td>Our Deeds are the Reason of this #earthquake M...</td>\n",
       "      <td>1</td>\n",
       "    </tr>\n",
       "    <tr>\n",
       "      <th>1</th>\n",
       "      <td>4</td>\n",
       "      <td>NaN</td>\n",
       "      <td>NaN</td>\n",
       "      <td>Forest fire near La Ronge Sask. Canada</td>\n",
       "      <td>1</td>\n",
       "    </tr>\n",
       "  </tbody>\n",
       "</table>\n",
       "</div>"
      ],
      "text/plain": [
       "   id keyword location                                               text  \\\n",
       "0   1     NaN      NaN  Our Deeds are the Reason of this #earthquake M...   \n",
       "1   4     NaN      NaN             Forest fire near La Ronge Sask. Canada   \n",
       "\n",
       "   target  \n",
       "0       1  \n",
       "1       1  "
      ]
     },
     "execution_count": 4,
     "metadata": {},
     "output_type": "execute_result"
    }
   ],
   "source": [
    "df_train.head(2)"
   ]
  },
  {
   "cell_type": "markdown",
   "metadata": {},
   "source": [
    "### TEXT PREPROCESSING"
   ]
  },
  {
   "cell_type": "code",
   "execution_count": 5,
   "metadata": {},
   "outputs": [],
   "source": [
    "def text_preprocessing(text):\n",
    "    '''\n",
    "    input: string to be processed\n",
    "    output: preprocssed string\n",
    "    '''\n",
    "    text = text.lower() # make everything lower case\n",
    "    text = re.compile(r'https?://\\S+|www\\.\\S+').sub(r'', text) #remove url\n",
    "    text = text.translate(str.maketrans('', '', PUNCT_TO_REMOVE)) #remove punctuation\n",
    "    text = \" \".join([word for word in str(text).split() if word not in STOPWORDS]) #remove stop words\n",
    "    text = \" \".join([stemmer.stem(word) for word in text.split()])\n",
    "    \n",
    "    return text"
   ]
  },
  {
   "cell_type": "code",
   "execution_count": 6,
   "metadata": {},
   "outputs": [
    {
     "data": {
      "text/plain": [
       "'flashflood caus landslid gilgit pakistan damag 20 home farmland road bridg 365disast'"
      ]
     },
     "execution_count": 6,
     "metadata": {},
     "output_type": "execute_result"
    }
   ],
   "source": [
    "text_preprocessing('''#Flashflood causes #landslide in Gilgit #Pakistan Damage to 20 homes\n",
    "                   farmland roads and bridges #365disasters  http://t.co/911F3IXRH0''')"
   ]
  },
  {
   "cell_type": "code",
   "execution_count": 7,
   "metadata": {},
   "outputs": [],
   "source": [
    "df_train['text_processed'] = df_train['text'].apply(text_preprocessing)\n",
    "df_test['text_processed'] = df_test['text'].apply(text_preprocessing)"
   ]
  },
  {
   "cell_type": "code",
   "execution_count": 8,
   "metadata": {},
   "outputs": [
    {
     "data": {
      "text/html": [
       "<div>\n",
       "<style scoped>\n",
       "    .dataframe tbody tr th:only-of-type {\n",
       "        vertical-align: middle;\n",
       "    }\n",
       "\n",
       "    .dataframe tbody tr th {\n",
       "        vertical-align: top;\n",
       "    }\n",
       "\n",
       "    .dataframe thead th {\n",
       "        text-align: right;\n",
       "    }\n",
       "</style>\n",
       "<table border=\"1\" class=\"dataframe\">\n",
       "  <thead>\n",
       "    <tr style=\"text-align: right;\">\n",
       "      <th></th>\n",
       "      <th>id</th>\n",
       "      <th>keyword</th>\n",
       "      <th>location</th>\n",
       "      <th>text</th>\n",
       "      <th>target</th>\n",
       "      <th>text_processed</th>\n",
       "    </tr>\n",
       "  </thead>\n",
       "  <tbody>\n",
       "    <tr>\n",
       "      <th>0</th>\n",
       "      <td>1</td>\n",
       "      <td>NaN</td>\n",
       "      <td>NaN</td>\n",
       "      <td>Our Deeds are the Reason of this #earthquake M...</td>\n",
       "      <td>1</td>\n",
       "      <td>deed reason earthquak may allah forgiv us</td>\n",
       "    </tr>\n",
       "    <tr>\n",
       "      <th>1</th>\n",
       "      <td>4</td>\n",
       "      <td>NaN</td>\n",
       "      <td>NaN</td>\n",
       "      <td>Forest fire near La Ronge Sask. Canada</td>\n",
       "      <td>1</td>\n",
       "      <td>forest fire near la rong sask canada</td>\n",
       "    </tr>\n",
       "    <tr>\n",
       "      <th>2</th>\n",
       "      <td>5</td>\n",
       "      <td>NaN</td>\n",
       "      <td>NaN</td>\n",
       "      <td>All residents asked to 'shelter in place' are ...</td>\n",
       "      <td>1</td>\n",
       "      <td>resid ask shelter place notifi offic evacu she...</td>\n",
       "    </tr>\n",
       "    <tr>\n",
       "      <th>3</th>\n",
       "      <td>6</td>\n",
       "      <td>NaN</td>\n",
       "      <td>NaN</td>\n",
       "      <td>13,000 people receive #wildfires evacuation or...</td>\n",
       "      <td>1</td>\n",
       "      <td>13000 peopl receiv wildfir evacu order california</td>\n",
       "    </tr>\n",
       "    <tr>\n",
       "      <th>4</th>\n",
       "      <td>7</td>\n",
       "      <td>NaN</td>\n",
       "      <td>NaN</td>\n",
       "      <td>Just got sent this photo from Ruby #Alaska as ...</td>\n",
       "      <td>1</td>\n",
       "      <td>got sent photo rubi alaska smoke wildfir pour ...</td>\n",
       "    </tr>\n",
       "  </tbody>\n",
       "</table>\n",
       "</div>"
      ],
      "text/plain": [
       "   id keyword location                                               text  \\\n",
       "0   1     NaN      NaN  Our Deeds are the Reason of this #earthquake M...   \n",
       "1   4     NaN      NaN             Forest fire near La Ronge Sask. Canada   \n",
       "2   5     NaN      NaN  All residents asked to 'shelter in place' are ...   \n",
       "3   6     NaN      NaN  13,000 people receive #wildfires evacuation or...   \n",
       "4   7     NaN      NaN  Just got sent this photo from Ruby #Alaska as ...   \n",
       "\n",
       "   target                                     text_processed  \n",
       "0       1          deed reason earthquak may allah forgiv us  \n",
       "1       1               forest fire near la rong sask canada  \n",
       "2       1  resid ask shelter place notifi offic evacu she...  \n",
       "3       1  13000 peopl receiv wildfir evacu order california  \n",
       "4       1  got sent photo rubi alaska smoke wildfir pour ...  "
      ]
     },
     "execution_count": 8,
     "metadata": {},
     "output_type": "execute_result"
    }
   ],
   "source": [
    "df_train.head()"
   ]
  },
  {
   "cell_type": "markdown",
   "metadata": {},
   "source": [
    "### Train Test Split"
   ]
  },
  {
   "cell_type": "code",
   "execution_count": 9,
   "metadata": {},
   "outputs": [],
   "source": [
    "X = df_train['text_processed']\n",
    "y = df_train['target']"
   ]
  },
  {
   "cell_type": "code",
   "execution_count": 10,
   "metadata": {},
   "outputs": [],
   "source": [
    "X_train, X_val, y_train, y_val = train_test_split(X, y, test_size=0.1,random_state=42)"
   ]
  },
  {
   "cell_type": "code",
   "execution_count": 11,
   "metadata": {},
   "outputs": [
    {
     "name": "stdout",
     "output_type": "stream",
     "text": [
      "vocab length 10791\n"
     ]
    }
   ],
   "source": [
    "vectorizer=TfidfVectorizer(ngram_range=(1,3),min_df=3,strip_accents='unicode', \n",
    "                           use_idf=1,smooth_idf=1, sublinear_tf=1,max_features=None)\n",
    "vectorizer.fit(list(df_train['text_processed'])+list(df_test['text_processed']))\n",
    "print('vocab length',len(vectorizer.vocabulary_))"
   ]
  },
  {
   "cell_type": "code",
   "execution_count": 12,
   "metadata": {},
   "outputs": [],
   "source": [
    "X_train_onehot = vectorizer.transform(X_train).todense()\n",
    "X_val_onehot = vectorizer.transform(X_val).todense()"
   ]
  },
  {
   "cell_type": "markdown",
   "metadata": {},
   "source": [
    "### Baseline Model: Logistic Regression"
   ]
  },
  {
   "cell_type": "code",
   "execution_count": 13,
   "metadata": {},
   "outputs": [
    {
     "name": "stdout",
     "output_type": "stream",
     "text": [
      "accuracy score:  0.7769028871391076\n",
      "              precision    recall  f1-score   support\n",
      "\n",
      "           0       0.76      0.87      0.81       426\n",
      "           1       0.80      0.65      0.72       336\n",
      "\n",
      "    accuracy                           0.78       762\n",
      "   macro avg       0.78      0.76      0.77       762\n",
      "weighted avg       0.78      0.78      0.77       762\n",
      "\n"
     ]
    }
   ],
   "source": [
    "from sklearn.linear_model import LogisticRegression\n",
    "\n",
    "lr_clf = LogisticRegression(max_iter=150,penalty='l2',solver='lbfgs',random_state=0)\n",
    "lr_clf.fit(X_train_onehot, y_train)\n",
    "lr_pred = lr_clf.predict(X_val_onehot)\n",
    "\n",
    "print('accuracy score: ',accuracy_score(lr_pred,y_val))\n",
    "print(classification_report(y_val, lr_pred))"
   ]
  },
  {
   "cell_type": "code",
   "execution_count": 14,
   "metadata": {},
   "outputs": [
    {
     "name": "stdout",
     "output_type": "stream",
     "text": [
      "logloss_lr: 0.5021093190570797\n"
     ]
    }
   ],
   "source": [
    "from sklearn.metrics import log_loss\n",
    "logloss_lr = log_loss(y_val,lr_clf.predict_proba(X_val_onehot))\n",
    "print('logloss_lr:',logloss_lr)"
   ]
  },
  {
   "cell_type": "markdown",
   "metadata": {},
   "source": [
    "### Naive Bayes"
   ]
  },
  {
   "cell_type": "code",
   "execution_count": 15,
   "metadata": {},
   "outputs": [
    {
     "name": "stdout",
     "output_type": "stream",
     "text": [
      "accuracy score:  0.7716535433070866\n",
      "              precision    recall  f1-score   support\n",
      "\n",
      "           0       0.74      0.91      0.82       426\n",
      "           1       0.84      0.60      0.70       336\n",
      "\n",
      "    accuracy                           0.77       762\n",
      "   macro avg       0.79      0.75      0.76       762\n",
      "weighted avg       0.78      0.77      0.76       762\n",
      "\n"
     ]
    }
   ],
   "source": [
    "from sklearn.naive_bayes import MultinomialNB\n",
    "\n",
    "mnb_clf = MultinomialNB()\n",
    "mnb_clf.fit(X_train_onehot, y_train)\n",
    "mnb_pred = mnb_clf.predict(X_val_onehot)\n",
    "\n",
    "print('accuracy score: ',accuracy_score(mnb_pred,y_val))\n",
    "print(classification_report(y_val, mnb_pred))"
   ]
  },
  {
   "cell_type": "code",
   "execution_count": 16,
   "metadata": {},
   "outputs": [
    {
     "name": "stdout",
     "output_type": "stream",
     "text": [
      "logloss_mnb: 0.49147244780123023\n"
     ]
    }
   ],
   "source": [
    "logloss_mnb = log_loss(y_val,mnb_clf.predict_proba(X_val_onehot))\n",
    "print('logloss_mnb:',logloss_mnb)"
   ]
  },
  {
   "cell_type": "markdown",
   "metadata": {},
   "source": [
    "Next, we will try RF, XGBoost and DNN"
   ]
  },
  {
   "cell_type": "markdown",
   "metadata": {},
   "source": [
    "### RandomForest"
   ]
  },
  {
   "cell_type": "code",
   "execution_count": 17,
   "metadata": {},
   "outputs": [
    {
     "name": "stdout",
     "output_type": "stream",
     "text": [
      "accuracy score:  0.7624671916010499\n",
      "              precision    recall  f1-score   support\n",
      "\n",
      "           0       0.76      0.84      0.80       426\n",
      "           1       0.76      0.67      0.71       336\n",
      "\n",
      "    accuracy                           0.76       762\n",
      "   macro avg       0.76      0.75      0.76       762\n",
      "weighted avg       0.76      0.76      0.76       762\n",
      "\n"
     ]
    }
   ],
   "source": [
    "rf_clf = RandomForestClassifier(random_state=0,n_estimators=100,\n",
    "                                max_depth=None, verbose=0,n_jobs=-1)\n",
    "rf_clf.fit(X_train_onehot, y_train)\n",
    "rf_pred = rf_clf.predict(X_val_onehot)\n",
    "\n",
    "print('accuracy score: ',accuracy_score(rf_pred,y_val))\n",
    "print(classification_report(y_val, rf_pred))"
   ]
  },
  {
   "cell_type": "code",
   "execution_count": 18,
   "metadata": {},
   "outputs": [
    {
     "name": "stdout",
     "output_type": "stream",
     "text": [
      "logloss_rf: 0.684830106556418\n"
     ]
    }
   ],
   "source": [
    "logloss_rf = log_loss(y_val,rf_clf.predict_proba(X_val_onehot))\n",
    "print('logloss_rf:',logloss_rf)"
   ]
  },
  {
   "cell_type": "markdown",
   "metadata": {},
   "source": [
    "### XGBoost"
   ]
  },
  {
   "cell_type": "code",
   "execution_count": 19,
   "metadata": {},
   "outputs": [
    {
     "name": "stdout",
     "output_type": "stream",
     "text": [
      "accuracy score:  0.7729658792650919\n",
      "              precision    recall  f1-score   support\n",
      "\n",
      "           0       0.75      0.88      0.81       426\n",
      "           1       0.81      0.63      0.71       336\n",
      "\n",
      "    accuracy                           0.77       762\n",
      "   macro avg       0.78      0.76      0.76       762\n",
      "weighted avg       0.78      0.77      0.77       762\n",
      "\n"
     ]
    }
   ],
   "source": [
    "# Fitting a simple xgboost on tf-idf\n",
    "xgb_clf = xgb.XGBClassifier(n_estimators=100,n_jobs=-1,max_depth=15,\n",
    "                            min_child_weight=3,objective='binary:logistic'\n",
    "                            ,colsample_bytree=0.4)\n",
    "xgb_clf.fit(X_train_onehot, y_train)\n",
    "xgb_predictions = xgb_clf.predict(X_val_onehot)\n",
    "\n",
    "print('accuracy score: ',accuracy_score(xgb_predictions,y_val))\n",
    "print(classification_report(y_val, xgb_predictions))"
   ]
  },
  {
   "cell_type": "code",
   "execution_count": 20,
   "metadata": {},
   "outputs": [
    {
     "name": "stdout",
     "output_type": "stream",
     "text": [
      "logloss_rf: 0.5023266280453721\n"
     ]
    }
   ],
   "source": [
    "logloss_xgb = log_loss(y_val,xgb_clf.predict_proba(X_val_onehot))\n",
    "print('logloss_rf:',logloss_xgb)"
   ]
  },
  {
   "cell_type": "markdown",
   "metadata": {},
   "source": [
    "### DNN"
   ]
  },
  {
   "cell_type": "code",
   "execution_count": 21,
   "metadata": {},
   "outputs": [
    {
     "data": {
      "text/plain": [
       "10791"
      ]
     },
     "execution_count": 21,
     "metadata": {},
     "output_type": "execute_result"
    }
   ],
   "source": [
    "np.shape(X_train_onehot)[1]"
   ]
  },
  {
   "cell_type": "code",
   "execution_count": 22,
   "metadata": {},
   "outputs": [
    {
     "name": "stderr",
     "output_type": "stream",
     "text": [
      "Using TensorFlow backend.\n"
     ]
    },
    {
     "name": "stdout",
     "output_type": "stream",
     "text": [
      "Model: \"sequential_1\"\n",
      "_________________________________________________________________\n",
      "Layer (type)                 Output Shape              Param #   \n",
      "=================================================================\n",
      "dense_1 (Dense)              (None, 512)               5525504   \n",
      "_________________________________________________________________\n",
      "batch_normalization_1 (Batch (None, 512)               2048      \n",
      "_________________________________________________________________\n",
      "dropout_1 (Dropout)          (None, 512)               0         \n",
      "_________________________________________________________________\n",
      "dense_2 (Dense)              (None, 256)               131328    \n",
      "_________________________________________________________________\n",
      "batch_normalization_2 (Batch (None, 256)               1024      \n",
      "_________________________________________________________________\n",
      "dropout_2 (Dropout)          (None, 256)               0         \n",
      "_________________________________________________________________\n",
      "dense_3 (Dense)              (None, 64)                16448     \n",
      "_________________________________________________________________\n",
      "batch_normalization_3 (Batch (None, 64)                256       \n",
      "_________________________________________________________________\n",
      "dropout_3 (Dropout)          (None, 64)                0         \n",
      "_________________________________________________________________\n",
      "dense_4 (Dense)              (None, 1)                 65        \n",
      "=================================================================\n",
      "Total params: 5,676,673\n",
      "Trainable params: 5,675,009\n",
      "Non-trainable params: 1,664\n",
      "_________________________________________________________________\n",
      "None\n",
      "Train on 6851 samples, validate on 762 samples\n",
      "Epoch 1/20\n",
      "6851/6851 [==============================] - 26s 4ms/step - loss: 4.4745 - accuracy: 0.5481 - val_loss: 3.0359 - val_accuracy: 0.4790\n",
      "Epoch 2/20\n",
      "6851/6851 [==============================] - 25s 4ms/step - loss: 2.9416 - accuracy: 0.6401 - val_loss: 2.5929 - val_accuracy: 0.7572\n",
      "Epoch 3/20\n",
      "6851/6851 [==============================] - 25s 4ms/step - loss: 2.5636 - accuracy: 0.7157 - val_loss: 2.3618 - val_accuracy: 0.7638\n",
      "Epoch 4/20\n",
      "6851/6851 [==============================] - 25s 4ms/step - loss: 2.2908 - accuracy: 0.7640 - val_loss: 2.1781 - val_accuracy: 0.7743\n",
      "Epoch 5/20\n",
      "6851/6851 [==============================] - 25s 4ms/step - loss: 2.0208 - accuracy: 0.8202 - val_loss: 2.0211 - val_accuracy: 0.7795\n",
      "Epoch 6/20\n",
      "6851/6851 [==============================] - 25s 4ms/step - loss: 1.8237 - accuracy: 0.8381 - val_loss: 1.8897 - val_accuracy: 0.7808\n",
      "Epoch 7/20\n",
      "6851/6851 [==============================] - 26s 4ms/step - loss: 1.6279 - accuracy: 0.8615 - val_loss: 1.7676 - val_accuracy: 0.7848\n",
      "Epoch 8/20\n",
      "6851/6851 [==============================] - 25s 4ms/step - loss: 1.4736 - accuracy: 0.8806 - val_loss: 1.6643 - val_accuracy: 0.7848\n",
      "Epoch 9/20\n",
      "6851/6851 [==============================] - 23s 3ms/step - loss: 1.3154 - accuracy: 0.8993 - val_loss: 1.5764 - val_accuracy: 0.7730\n",
      "Epoch 10/20\n",
      "6851/6851 [==============================] - 28s 4ms/step - loss: 1.1853 - accuracy: 0.9038 - val_loss: 1.4859 - val_accuracy: 0.7651\n",
      "Epoch 11/20\n",
      "6851/6851 [==============================] - 24s 4ms/step - loss: 1.0648 - accuracy: 0.9171 - val_loss: 1.4088 - val_accuracy: 0.7703\n",
      "Epoch 12/20\n",
      "6851/6851 [==============================] - 25s 4ms/step - loss: 0.9533 - accuracy: 0.9225 - val_loss: 1.3587 - val_accuracy: 0.7717\n",
      "Epoch 13/20\n",
      "6851/6851 [==============================] - 25s 4ms/step - loss: 0.8558 - accuracy: 0.9289 - val_loss: 1.2942 - val_accuracy: 0.7651\n",
      "Epoch 14/20\n",
      "6851/6851 [==============================] - 25s 4ms/step - loss: 0.7796 - accuracy: 0.9324 - val_loss: 1.2466 - val_accuracy: 0.7546\n",
      "Epoch 15/20\n",
      "6851/6851 [==============================] - 22s 3ms/step - loss: 0.7069 - accuracy: 0.9372 - val_loss: 1.2071 - val_accuracy: 0.7625\n",
      "Epoch 16/20\n",
      "6851/6851 [==============================] - 25s 4ms/step - loss: 0.6512 - accuracy: 0.9371 - val_loss: 1.1674 - val_accuracy: 0.7743\n",
      "Epoch 17/20\n",
      "6851/6851 [==============================] - 25s 4ms/step - loss: 0.6016 - accuracy: 0.9378 - val_loss: 1.1490 - val_accuracy: 0.7572\n",
      "Epoch 18/20\n",
      "6851/6851 [==============================] - 25s 4ms/step - loss: 0.5514 - accuracy: 0.9380 - val_loss: 1.1221 - val_accuracy: 0.7533\n",
      "Epoch 19/20\n",
      "6851/6851 [==============================] - 24s 3ms/step - loss: 0.5009 - accuracy: 0.9464 - val_loss: 1.0825 - val_accuracy: 0.7677\n",
      "Epoch 20/20\n",
      "6851/6851 [==============================] - 25s 4ms/step - loss: 0.4788 - accuracy: 0.9451 - val_loss: 1.0792 - val_accuracy: 0.7651\n"
     ]
    }
   ],
   "source": [
    "from keras.models import Sequential\n",
    "from keras.layers import Dense, Activation, Dropout, BatchNormalization\n",
    "from keras.optimizers import Adam\n",
    "from keras import regularizers\n",
    "\n",
    "model = Sequential()\n",
    "model.add(Dense(512, activation='relu', input_dim=np.shape(X_train_onehot)[1],\n",
    "                kernel_regularizer=regularizers.l2(0.01),\n",
    "                activity_regularizer=regularizers.l1(0.01)))\n",
    "model.add(BatchNormalization())\n",
    "model.add(Dropout(0.5))\n",
    "model.add(Dense(256, activation='relu'))\n",
    "model.add(BatchNormalization())\n",
    "model.add(Dropout(0.6))\n",
    "model.add(Dense(64, activation='relu'))\n",
    "model.add(BatchNormalization())\n",
    "model.add(Dropout(0.5))\n",
    "model.add(Dense(1, activation='sigmoid'))\n",
    "\n",
    "adam = Adam(lr=1e-4, beta_1=0.9, beta_2=0.999, epsilon=10**-8, decay=0.0001, amsgrad=False)\n",
    "model.compile(optimizer= adam,\n",
    "              loss='binary_crossentropy',\n",
    "              metrics=['accuracy'])\n",
    "print(model.summary())\n",
    "\n",
    "# Train the model, iterating on the data in batches of 32 samples\n",
    "hist = model.fit(X_train_onehot, y_train,validation_data = (X_val_onehot,y_val), epochs=20, batch_size=16)"
   ]
  },
  {
   "cell_type": "code",
   "execution_count": 23,
   "metadata": {},
   "outputs": [
    {
     "data": {
      "image/png": "[encoded data removed]",
      "text/plain": [
       "<Figure size 864x864 with 1 Axes>"
      ]
     },
     "metadata": {
      "needs_background": "light"
     },
     "output_type": "display_data"
    }
   ],
   "source": [
    "import matplotlib.pyplot as plt\n",
    "%matplotlib inline\n",
    "\n",
    "history = pd.DataFrame(hist.history)\n",
    "plt.figure(figsize=(12,12));\n",
    "plt.plot(history[\"loss\"]);\n",
    "plt.plot(history[\"val_loss\"]);\n",
    "plt.title(\"Loss as function of epoch\");\n",
    "plt.xlabel('epoch')\n",
    "plt.ylabel('loss')\n",
    "plt.show();"
   ]
  },
  {
   "cell_type": "code",
   "execution_count": 24,
   "metadata": {},
   "outputs": [],
   "source": [
    "dnn_pred = model.predict_classes(X_val_onehot)"
   ]
  },
  {
   "cell_type": "code",
   "execution_count": 25,
   "metadata": {},
   "outputs": [
    {
     "name": "stdout",
     "output_type": "stream",
     "text": [
      "accuracy score:  0.7650918635170604\n",
      "              precision    recall  f1-score   support\n",
      "\n",
      "           0       0.75      0.86      0.80       426\n",
      "           1       0.78      0.65      0.71       336\n",
      "\n",
      "    accuracy                           0.77       762\n",
      "   macro avg       0.77      0.75      0.76       762\n",
      "weighted avg       0.77      0.77      0.76       762\n",
      "\n"
     ]
    }
   ],
   "source": [
    "print('accuracy score: ',accuracy_score(dnn_pred,y_val))\n",
    "print(classification_report(y_val, dnn_pred))"
   ]
  },
  {
   "cell_type": "code",
   "execution_count": 26,
   "metadata": {},
   "outputs": [
    {
     "name": "stdout",
     "output_type": "stream",
     "text": [
      "logloss_dnn: 0.7844713940046648\n"
     ]
    }
   ],
   "source": [
    "logloss_dnn = log_loss(y_val,model.predict_proba(X_val_onehot))\n",
    "print('logloss_dnn:',logloss_dnn)"
   ]
  },
  {
   "cell_type": "markdown",
   "metadata": {},
   "source": [
    "### Averaging"
   ]
  },
  {
   "cell_type": "code",
   "execution_count": 27,
   "metadata": {},
   "outputs": [],
   "source": [
    "lr_predictions_val = lr_clf.predict_proba(X_val_onehot)\n",
    "mnb_predictions_val = mnb_clf.predict_proba(X_val_onehot)\n",
    "#rf_predictions_val = rf_clf.predict_proba(X_val_onehot)\n",
    "xgb_predictions_val = xgb_clf.predict_proba(X_val_onehot)\n",
    "#dnn_predictions_val = model.predict_proba(X_val_onehot).ravel()"
   ]
  },
  {
   "cell_type": "code",
   "execution_count": 28,
   "metadata": {},
   "outputs": [],
   "source": [
    "#predictions_val = 1/5*lr_predictions_val[:,1]+1/5*gnb_predictions_val[:,1] \\\n",
    "#                +1/5*rf_predictions_val[:,1]+1/5*xgb_predictions_val[:,1]+1/5*dnn_predictions_val\n",
    "predictions_val = 1/3*lr_predictions_val[:,1]+1/3*mnb_predictions_val[:,1] \\\n",
    "                +1/3*xgb_predictions_val[:,1]\n",
    "\n",
    "predictions_val = np.where(predictions_val>0.5, 1, 0)"
   ]
  },
  {
   "cell_type": "code",
   "execution_count": 29,
   "metadata": {},
   "outputs": [
    {
     "name": "stdout",
     "output_type": "stream",
     "text": [
      "accuracy score:  0.7900262467191601\n",
      "              precision    recall  f1-score   support\n",
      "\n",
      "           0       0.76      0.91      0.83       426\n",
      "           1       0.85      0.64      0.73       336\n",
      "\n",
      "    accuracy                           0.79       762\n",
      "   macro avg       0.80      0.77      0.78       762\n",
      "weighted avg       0.80      0.79      0.78       762\n",
      "\n"
     ]
    }
   ],
   "source": [
    "print('accuracy score: ',accuracy_score(predictions_val,y_val))\n",
    "print(classification_report(y_val, predictions_val))"
   ]
  },
  {
   "cell_type": "markdown",
   "metadata": {},
   "source": [
    "## Prediction on test set"
   ]
  },
  {
   "cell_type": "code",
   "execution_count": 30,
   "metadata": {},
   "outputs": [],
   "source": [
    "df_test = pd.read_csv('../input/nlp-getting-started/test.csv')"
   ]
  },
  {
   "cell_type": "code",
   "execution_count": 31,
   "metadata": {},
   "outputs": [
    {
     "data": {
      "text/html": [
       "<div>\n",
       "<style scoped>\n",
       "    .dataframe tbody tr th:only-of-type {\n",
       "        vertical-align: middle;\n",
       "    }\n",
       "\n",
       "    .dataframe tbody tr th {\n",
       "        vertical-align: top;\n",
       "    }\n",
       "\n",
       "    .dataframe thead th {\n",
       "        text-align: right;\n",
       "    }\n",
       "</style>\n",
       "<table border=\"1\" class=\"dataframe\">\n",
       "  <thead>\n",
       "    <tr style=\"text-align: right;\">\n",
       "      <th></th>\n",
       "      <th>id</th>\n",
       "      <th>keyword</th>\n",
       "      <th>location</th>\n",
       "      <th>text</th>\n",
       "    </tr>\n",
       "  </thead>\n",
       "  <tbody>\n",
       "    <tr>\n",
       "      <th>0</th>\n",
       "      <td>0</td>\n",
       "      <td>NaN</td>\n",
       "      <td>NaN</td>\n",
       "      <td>Just happened a terrible car crash</td>\n",
       "    </tr>\n",
       "    <tr>\n",
       "      <th>1</th>\n",
       "      <td>2</td>\n",
       "      <td>NaN</td>\n",
       "      <td>NaN</td>\n",
       "      <td>Heard about #earthquake is different cities, s...</td>\n",
       "    </tr>\n",
       "    <tr>\n",
       "      <th>2</th>\n",
       "      <td>3</td>\n",
       "      <td>NaN</td>\n",
       "      <td>NaN</td>\n",
       "      <td>there is a forest fire at spot pond, geese are...</td>\n",
       "    </tr>\n",
       "    <tr>\n",
       "      <th>3</th>\n",
       "      <td>9</td>\n",
       "      <td>NaN</td>\n",
       "      <td>NaN</td>\n",
       "      <td>Apocalypse lighting. #Spokane #wildfires</td>\n",
       "    </tr>\n",
       "    <tr>\n",
       "      <th>4</th>\n",
       "      <td>11</td>\n",
       "      <td>NaN</td>\n",
       "      <td>NaN</td>\n",
       "      <td>Typhoon Soudelor kills 28 in China and Taiwan</td>\n",
       "    </tr>\n",
       "  </tbody>\n",
       "</table>\n",
       "</div>"
      ],
      "text/plain": [
       "   id keyword location                                               text\n",
       "0   0     NaN      NaN                 Just happened a terrible car crash\n",
       "1   2     NaN      NaN  Heard about #earthquake is different cities, s...\n",
       "2   3     NaN      NaN  there is a forest fire at spot pond, geese are...\n",
       "3   9     NaN      NaN           Apocalypse lighting. #Spokane #wildfires\n",
       "4  11     NaN      NaN      Typhoon Soudelor kills 28 in China and Taiwan"
      ]
     },
     "execution_count": 31,
     "metadata": {},
     "output_type": "execute_result"
    }
   ],
   "source": [
    "df_test.head()"
   ]
  },
  {
   "cell_type": "code",
   "execution_count": 32,
   "metadata": {},
   "outputs": [],
   "source": [
    "df_test['text_processed'] = df_test['text'].apply(text_preprocessing)"
   ]
  },
  {
   "cell_type": "code",
   "execution_count": 33,
   "metadata": {},
   "outputs": [],
   "source": [
    "X_test = df_test['text_processed']\n",
    "X_test_onehot = vectorizer.transform(X_test).todense()"
   ]
  },
  {
   "cell_type": "code",
   "execution_count": 34,
   "metadata": {},
   "outputs": [],
   "source": [
    "lr_predictions = lr_clf.predict_proba(X_test_onehot)\n",
    "mnb_predictions = mnb_clf.predict_proba(X_test_onehot)\n",
    "#rf_predictions = rf_clf.predict_proba(X_test_onehot)\n",
    "xgb_predictions = xgb_clf.predict_proba(X_test_onehot)\n",
    "#dnn_predictions = model.predict_proba(X_test_onehot).ravel()"
   ]
  },
  {
   "cell_type": "code",
   "execution_count": 35,
   "metadata": {},
   "outputs": [],
   "source": [
    "#predictions = 1/5*lr_predictions[:,1]+1/5*gnb_predictions[:,1]+1/5*rf_predictions[:,1]+1/5*xgb_predictions[:,1]+1/5*dnn_predictions\n",
    "predictions = 1/3*lr_predictions[:,1]+1/3*mnb_predictions[:,1]+1/3*xgb_predictions[:,1]"
   ]
  },
  {
   "cell_type": "code",
   "execution_count": 36,
   "metadata": {},
   "outputs": [],
   "source": [
    "predictions = np.where(predictions>0.5, 1, 0)"
   ]
  },
  {
   "cell_type": "code",
   "execution_count": 37,
   "metadata": {},
   "outputs": [],
   "source": [
    "df_submission = pd.read_csv('../input/nlp-getting-started/sample_submission.csv')\n",
    "df_submission['target'] = predictions\n",
    "df_submission.to_csv('submission.csv',index=False)"
   ]
  },
  {
   "cell_type": "code",
   "execution_count": null,
   "metadata": {},
   "outputs": [],
   "source": []
  },
  {
   "cell_type": "code",
   "execution_count": null,
   "metadata": {},
   "outputs": [],
   "source": []
  }
 ],
 "metadata": {
  "kernelspec": {
   "display_name": "Python 3",
   "language": "python",
   "name": "python3"
  },
  "language_info": {
   "codemirror_mode": {
    "name": "ipython",
    "version": 3
   },
   "file_extension": ".py",
   "mimetype": "text/x-python",
   "name": "python",
   "nbconvert_exporter": "python",
   "pygments_lexer": "ipython3",
   "version": "3.7.1"
  }
 },
 "nbformat": 4,
 "nbformat_minor": 1
}

{
 "cells": [
  {
   "cell_type": "markdown",
   "metadata": {},
   "source": [
    "### Toxic Comment Classification with CNN_LSTM\n",
    "#### Aurthur: Kamal Pangeni\n",
    "\n",
    "Ref: https://www.kaggle.com/c/jigsaw-toxic-comment-classification-challenge/overview/description"
   ]
  },
  {
   "cell_type": "code",
   "execution_count": 1,
   "metadata": {},
   "outputs": [
    {
     "name": "stdout",
     "output_type": "stream",
     "text": [
      "[nltk_data] Downloading package stopwords to\n",
      "[nltk_data]     /home/kpangen1/nltk_data...\n",
      "[nltk_data]   Package stopwords is already up-to-date!\n"
     ]
    }
   ],
   "source": [
    "import pandas as pd\n",
    "import numpy as np\n",
    "import re\n",
    "import os\n",
    "\n",
    "import nltk\n",
    "nltk.download('stopwords')\n",
    "from nltk.corpus import stopwords\n",
    "from nltk.stem import PorterStemmer\n",
    "from nltk.stem import WordNetLemmatizer\n",
    "\n",
    "stemmer= PorterStemmer()\n",
    "lemmatizer=WordNetLemmatizer()\n",
    "STOPWORDS = set(stopwords.words('english'))"
   ]
  },
  {
   "cell_type": "code",
   "execution_count": 2,
   "metadata": {},
   "outputs": [],
   "source": [
    "path_to_maindir = '../toxic_comments/'"
   ]
  },
  {
   "cell_type": "code",
   "execution_count": 3,
   "metadata": {},
   "outputs": [],
   "source": [
    "#import data\n",
    "df = pd.read_csv(path_to_maindir+'train.csv')\n",
    "df_test = pd.read_csv(path_to_maindir+'test.csv')"
   ]
  },
  {
   "cell_type": "code",
   "execution_count": 4,
   "metadata": {},
   "outputs": [
    {
     "data": {
      "text/html": [
       "<div>\n",
       "<style scoped>\n",
       "    .dataframe tbody tr th:only-of-type {\n",
       "        vertical-align: middle;\n",
       "    }\n",
       "\n",
       "    .dataframe tbody tr th {\n",
       "        vertical-align: top;\n",
       "    }\n",
       "\n",
       "    .dataframe thead th {\n",
       "        text-align: right;\n",
       "    }\n",
       "</style>\n",
       "<table border=\"1\" class=\"dataframe\">\n",
       "  <thead>\n",
       "    <tr style=\"text-align: right;\">\n",
       "      <th></th>\n",
       "      <th>id</th>\n",
       "      <th>comment_text</th>\n",
       "      <th>toxic</th>\n",
       "      <th>severe_toxic</th>\n",
       "      <th>obscene</th>\n",
       "      <th>threat</th>\n",
       "      <th>insult</th>\n",
       "      <th>identity_hate</th>\n",
       "    </tr>\n",
       "  </thead>\n",
       "  <tbody>\n",
       "    <tr>\n",
       "      <th>0</th>\n",
       "      <td>0000997932d777bf</td>\n",
       "      <td>Explanation\\nWhy the edits made under my usern...</td>\n",
       "      <td>0</td>\n",
       "      <td>0</td>\n",
       "      <td>0</td>\n",
       "      <td>0</td>\n",
       "      <td>0</td>\n",
       "      <td>0</td>\n",
       "    </tr>\n",
       "    <tr>\n",
       "      <th>1</th>\n",
       "      <td>000103f0d9cfb60f</td>\n",
       "      <td>D'aww! He matches this background colour I'm s...</td>\n",
       "      <td>0</td>\n",
       "      <td>0</td>\n",
       "      <td>0</td>\n",
       "      <td>0</td>\n",
       "      <td>0</td>\n",
       "      <td>0</td>\n",
       "    </tr>\n",
       "    <tr>\n",
       "      <th>2</th>\n",
       "      <td>000113f07ec002fd</td>\n",
       "      <td>Hey man, I'm really not trying to edit war. It...</td>\n",
       "      <td>0</td>\n",
       "      <td>0</td>\n",
       "      <td>0</td>\n",
       "      <td>0</td>\n",
       "      <td>0</td>\n",
       "      <td>0</td>\n",
       "    </tr>\n",
       "    <tr>\n",
       "      <th>3</th>\n",
       "      <td>0001b41b1c6bb37e</td>\n",
       "      <td>\"\\nMore\\nI can't make any real suggestions on ...</td>\n",
       "      <td>0</td>\n",
       "      <td>0</td>\n",
       "      <td>0</td>\n",
       "      <td>0</td>\n",
       "      <td>0</td>\n",
       "      <td>0</td>\n",
       "    </tr>\n",
       "    <tr>\n",
       "      <th>4</th>\n",
       "      <td>0001d958c54c6e35</td>\n",
       "      <td>You, sir, are my hero. Any chance you remember...</td>\n",
       "      <td>0</td>\n",
       "      <td>0</td>\n",
       "      <td>0</td>\n",
       "      <td>0</td>\n",
       "      <td>0</td>\n",
       "      <td>0</td>\n",
       "    </tr>\n",
       "  </tbody>\n",
       "</table>\n",
       "</div>"
      ],
      "text/plain": [
       "                 id                                       comment_text  toxic  \\\n",
       "0  0000997932d777bf  Explanation\\nWhy the edits made under my usern...      0   \n",
       "1  000103f0d9cfb60f  D'aww! He matches this background colour I'm s...      0   \n",
       "2  000113f07ec002fd  Hey man, I'm really not trying to edit war. It...      0   \n",
       "3  0001b41b1c6bb37e  \"\\nMore\\nI can't make any real suggestions on ...      0   \n",
       "4  0001d958c54c6e35  You, sir, are my hero. Any chance you remember...      0   \n",
       "\n",
       "   severe_toxic  obscene  threat  insult  identity_hate  \n",
       "0             0        0       0       0              0  \n",
       "1             0        0       0       0              0  \n",
       "2             0        0       0       0              0  \n",
       "3             0        0       0       0              0  \n",
       "4             0        0       0       0              0  "
      ]
     },
     "execution_count": 4,
     "metadata": {},
     "output_type": "execute_result"
    }
   ],
   "source": [
    "df.head()"
   ]
  },
  {
   "cell_type": "code",
   "execution_count": 43,
   "metadata": {},
   "outputs": [
    {
     "data": {
      "text/html": [
       "<div>\n",
       "<style scoped>\n",
       "    .dataframe tbody tr th:only-of-type {\n",
       "        vertical-align: middle;\n",
       "    }\n",
       "\n",
       "    .dataframe tbody tr th {\n",
       "        vertical-align: top;\n",
       "    }\n",
       "\n",
       "    .dataframe thead th {\n",
       "        text-align: right;\n",
       "    }\n",
       "</style>\n",
       "<table border=\"1\" class=\"dataframe\">\n",
       "  <thead>\n",
       "    <tr style=\"text-align: right;\">\n",
       "      <th></th>\n",
       "      <th>id</th>\n",
       "      <th>comment_text</th>\n",
       "    </tr>\n",
       "  </thead>\n",
       "  <tbody>\n",
       "    <tr>\n",
       "      <th>0</th>\n",
       "      <td>00001cee341fdb12</td>\n",
       "      <td>Yo bitch Ja Rule is more succesful then you'll...</td>\n",
       "    </tr>\n",
       "    <tr>\n",
       "      <th>1</th>\n",
       "      <td>0000247867823ef7</td>\n",
       "      <td>== From RfC == \\n\\n The title is fine as it is...</td>\n",
       "    </tr>\n",
       "    <tr>\n",
       "      <th>2</th>\n",
       "      <td>00013b17ad220c46</td>\n",
       "      <td>\" \\n\\n == Sources == \\n\\n * Zawe Ashton on Lap...</td>\n",
       "    </tr>\n",
       "    <tr>\n",
       "      <th>3</th>\n",
       "      <td>00017563c3f7919a</td>\n",
       "      <td>:If you have a look back at the source, the in...</td>\n",
       "    </tr>\n",
       "    <tr>\n",
       "      <th>4</th>\n",
       "      <td>00017695ad8997eb</td>\n",
       "      <td>I don't anonymously edit articles at all.</td>\n",
       "    </tr>\n",
       "  </tbody>\n",
       "</table>\n",
       "</div>"
      ],
      "text/plain": [
       "                 id                                       comment_text\n",
       "0  00001cee341fdb12  Yo bitch Ja Rule is more succesful then you'll...\n",
       "1  0000247867823ef7  == From RfC == \\n\\n The title is fine as it is...\n",
       "2  00013b17ad220c46  \" \\n\\n == Sources == \\n\\n * Zawe Ashton on Lap...\n",
       "3  00017563c3f7919a  :If you have a look back at the source, the in...\n",
       "4  00017695ad8997eb          I don't anonymously edit articles at all."
      ]
     },
     "execution_count": 43,
     "metadata": {},
     "output_type": "execute_result"
    }
   ],
   "source": [
    "df_test.head()"
   ]
  },
  {
   "cell_type": "markdown",
   "metadata": {},
   "source": [
    "### Text Preprocessing"
   ]
  },
  {
   "cell_type": "code",
   "execution_count": 44,
   "metadata": {},
   "outputs": [],
   "source": [
    "def text_prepare(text):\n",
    "\n",
    "    \"\"\"\n",
    "        text: a string\n",
    "        return: modified initial string\n",
    "    \"\"\"\n",
    "\n",
    "    text = text.lower() # lowercase text\n",
    "    text = text.strip() # remove white spaces\n",
    "    text = re.sub('-',' ',text) # split text on '-'\n",
    "    text = re.sub(r'[^\\w\\s]',' ',text)# remove punctuation\n",
    "    #text = re.sub(r'\\w*\\d\\w*','', text).strip()\n",
    "    text = re.sub('\\n',' ',text)\n",
    "    text = ' '.join([word for word in text.split() if word not in STOPWORDS]) # remove stopwords\n",
    "    #text = ' '.join([stemmer.stem(word) for word in text.split()])\n",
    "    #text = ' '.join([lemmatizer.lemmatize(word) for word in text.split()])\n",
    "    \n",
    "    return text"
   ]
  },
  {
   "cell_type": "code",
   "execution_count": 45,
   "metadata": {},
   "outputs": [
    {
     "data": {
      "text/plain": [
       "\"Explanation\\nWhy the edits made under my username Hardcore Metallica Fan were reverted? They weren't vandalisms, just closure on some GAs after I voted at New York Dolls FAC. And please don't remove the template from the talk page since I'm retired now.89.205.38.27\""
      ]
     },
     "execution_count": 45,
     "metadata": {},
     "output_type": "execute_result"
    }
   ],
   "source": [
    "df['comment_text'].values[0]"
   ]
  },
  {
   "cell_type": "code",
   "execution_count": 46,
   "metadata": {},
   "outputs": [
    {
     "data": {
      "text/plain": [
       "'explanation edits made username hardcore metallica fan reverted vandalisms closure gas voted new york dolls fac please remove template talk page since retired 89 205 38 27'"
      ]
     },
     "execution_count": 46,
     "metadata": {},
     "output_type": "execute_result"
    }
   ],
   "source": [
    "text_prepare(df['comment_text'].values[0])"
   ]
  },
  {
   "cell_type": "code",
   "execution_count": 47,
   "metadata": {},
   "outputs": [],
   "source": [
    "df['comment_text_processed'] = df['comment_text'].apply(text_prepare)\n",
    "df_test['comment_text_processed'] = df_test['comment_text'].apply(text_prepare)"
   ]
  },
  {
   "cell_type": "code",
   "execution_count": 48,
   "metadata": {},
   "outputs": [],
   "source": [
    "X = df['comment_text_processed']\n",
    "y = df.drop(['id','comment_text','comment_text_processed'],axis=1)"
   ]
  },
  {
   "cell_type": "code",
   "execution_count": 49,
   "metadata": {},
   "outputs": [],
   "source": [
    "from sklearn.model_selection import train_test_split\n",
    "X_train, X_val, y_train, y_val = train_test_split(X, y, test_size=0.1,random_state=42)"
   ]
  },
  {
   "cell_type": "markdown",
   "metadata": {},
   "source": [
    "### Text vectorization"
   ]
  },
  {
   "cell_type": "code",
   "execution_count": 50,
   "metadata": {},
   "outputs": [],
   "source": [
    "from sklearn.feature_extraction.text import TfidfVectorizer"
   ]
  },
  {
   "cell_type": "code",
   "execution_count": 51,
   "metadata": {},
   "outputs": [
    {
     "data": {
      "text/plain": [
       "TfidfVectorizer(analyzer='word', binary=False, decode_error='strict',\n",
       "        dtype=<class 'numpy.float64'>, encoding='utf-8', input='content',\n",
       "        lowercase=True, max_df=0.95, max_features=None, min_df=3,\n",
       "        ngram_range=(1, 1), norm='l2', preprocessor=None, smooth_idf=1,\n",
       "        stop_words=None, strip_accents='unicode', sublinear_tf=1,\n",
       "        token_pattern='(?u)\\\\b\\\\w\\\\w+\\\\b', tokenizer=None, use_idf=1,\n",
       "        vocabulary=None)"
      ]
     },
     "execution_count": 51,
     "metadata": {},
     "output_type": "execute_result"
    }
   ],
   "source": [
    "vectorizer=TfidfVectorizer(ngram_range=(1,1),min_df=3, max_df=0.95,\n",
    "\n",
    "                           strip_accents='unicode', use_idf=1,smooth_idf=1, sublinear_tf=1,max_features=None)\n",
    "\n",
    "vectorizer.fit(df['comment_text_processed'])"
   ]
  },
  {
   "cell_type": "code",
   "execution_count": 52,
   "metadata": {},
   "outputs": [
    {
     "name": "stdout",
     "output_type": "stream",
     "text": [
      "length of vectorized vocab:  52641\n"
     ]
    }
   ],
   "source": [
    "print('length of vectorized vocab: ',len(vectorizer.vocabulary_))"
   ]
  },
  {
   "cell_type": "markdown",
   "metadata": {},
   "source": [
    "### CNN+LSTM Implementation"
   ]
  },
  {
   "cell_type": "code",
   "execution_count": 53,
   "metadata": {},
   "outputs": [],
   "source": [
    "from keras import regularizers\n",
    "from keras.models import Model,Sequential\n",
    "from keras.layers import Dense,Dropout,Activation,concatenate,Flatten,Input\n",
    "from keras.layers import Embedding,LSTM,Conv1D,AveragePooling1D,MaxPooling1D,Bidirectional\n",
    "from keras.optimizers import Adam,RMSprop,SGD,Adadelta\n",
    "from keras.layers.normalization import BatchNormalization\n",
    "from sklearn.feature_extraction.text import CountVectorizer,TfidfVectorizer "
   ]
  },
  {
   "cell_type": "code",
   "execution_count": 54,
   "metadata": {},
   "outputs": [],
   "source": [
    "word2idx = {word: idx for idx, word in enumerate(vectorizer.get_feature_names())}\n",
    "tokenize = vectorizer.build_tokenizer()\n",
    "preprocess = vectorizer.build_preprocessor()\n",
    "\n",
    "def to_sequence(tokenizer, preprocessor, index, text):\n",
    "    words = tokenizer(preprocessor(text))\n",
    "    indexes = [index[word] for word in words if word in index]\n",
    "    return indexes\n",
    "\n",
    "X_train_sequences = [to_sequence(tokenize, preprocess, word2idx, x) for x in X_train]\n",
    "X_val_sequences = [to_sequence(tokenize, preprocess, word2idx, x) for x in X_val]\n",
    "X_test_sequences = [to_sequence(tokenize, preprocess, word2idx, x) for x in df_test['comment_text_processed']]"
   ]
  },
  {
   "cell_type": "code",
   "execution_count": 55,
   "metadata": {},
   "outputs": [],
   "source": [
    "import matplotlib.pyplot as plt\n",
    "%matplotlib inline"
   ]
  },
  {
   "cell_type": "code",
   "execution_count": 56,
   "metadata": {},
   "outputs": [],
   "source": [
    "seq_len_train = [len(x) for x in X_train_sequences]\n",
    "seq_len_test = [len(x) for x in X_test_sequences]"
   ]
  },
  {
   "cell_type": "code",
   "execution_count": 57,
   "metadata": {},
   "outputs": [
    {
     "data": {
      "image/png": "[encoded data removed]",
      "text/plain": [
       "<matplotlib.figure.Figure at 0x7eff71afd240>"
      ]
     },
     "metadata": {
      "needs_background": "light"
     },
     "output_type": "display_data"
    }
   ],
   "source": [
    "plt.figure(figsize=(12,7))\n",
    "plt.hist(seq_len_train,bins=(0,50,100,150,200,250,300,350,400,450,500,550,600,650,700,750,800,850,900,950,1000))\n",
    "plt.show()"
   ]
  },
  {
   "cell_type": "code",
   "execution_count": 58,
   "metadata": {},
   "outputs": [
    {
     "data": {
      "image/png": "[encoded data removed]",
      "text/plain": [
       "<matplotlib.figure.Figure at 0x7eff71b679e8>"
      ]
     },
     "metadata": {
      "needs_background": "light"
     },
     "output_type": "display_data"
    }
   ],
   "source": [
    "plt.figure(figsize=(12,7))\n",
    "plt.hist(seq_len_test,bins=(0,50,100,150,200,250,300,350,400,450,500,550,600,650,700,750,800,850,900,950,1000))\n",
    "plt.show()"
   ]
  },
  {
   "cell_type": "code",
   "execution_count": 59,
   "metadata": {},
   "outputs": [],
   "source": [
    "from keras.preprocessing.sequence import pad_sequences\n",
    "\n",
    "MAX_SEQ_LENGHT = 400\n",
    "N_FEATURES = len(vectorizer.get_feature_names())\n",
    "\n",
    "X_train_sequences = pad_sequences(X_train_sequences, maxlen=MAX_SEQ_LENGHT, value=N_FEATURES,padding='post',truncating='post')\n",
    "X_val_sequences = pad_sequences(X_val_sequences, maxlen=MAX_SEQ_LENGHT, value=N_FEATURES,padding='post',truncating='post')\n",
    "X_test_sequences = pad_sequences(X_test_sequences, maxlen=MAX_SEQ_LENGHT, value=N_FEATURES,padding='post',truncating='post') "
   ]
  },
  {
   "cell_type": "code",
   "execution_count": 60,
   "metadata": {},
   "outputs": [],
   "source": [
    "GLOVE_DIR = \"/mnt/qlikviewdev_nfs/MIAProjects/DRG_Validation/project_v5/data/external\"\n",
    "EMBEDDING_DIM=50\n",
    "embeddings_index = {}\n",
    "f = open(os.path.join(GLOVE_DIR, 'glove.6B.50d.txt'))\n",
    "for line in f:\n",
    "    values = line.split()\n",
    "    word = values[0]\n",
    "    coefs = np.asarray(values[1:], dtype='float32')\n",
    "    embeddings_index[word] = coefs\n",
    "f.close()\n",
    "\n",
    "embedding_matrix = np.random.random((len(word2idx) + 1, EMBEDDING_DIM))\n",
    "for word, i in word2idx.items():\n",
    "    embedding_vector = embeddings_index.get(word)\n",
    "    if embedding_vector is not None:\n",
    "        # words not found in embedding index will be all-zeros.\n",
    "        embedding_matrix[i] = embedding_vector"
   ]
  },
  {
   "cell_type": "code",
   "execution_count": 69,
   "metadata": {},
   "outputs": [],
   "source": [
    "# https://keras.io/getting-started/functional-api-guide/\n",
    "# https://blog.keras.io/using-pre-trained-word-embeddings-in-a-keras-model.html (for use of pretrained embeddings)\n",
    "num_features = len(vectorizer.get_feature_names())\n",
    "input_dim = num_features + 1\n",
    "\n",
    "def build_nn_wembd(n1):\n",
    "    '''\n",
    "    n1\n",
    "    '''\n",
    "\n",
    "    # Headline input: meant to receive sequences of 100 integers, between 1 and 10000.\n",
    "    # Note that we can name any layer by passing it a \"name\" argument.\n",
    "\n",
    "    main_input = Input(shape=(MAX_SEQ_LENGHT,), dtype='int32', name='main_input')\n",
    "    embedding_layer = Embedding(len(vectorizer.get_feature_names()) + 1,\n",
    "                                EMBEDDING_DIM,# Embedding size,\n",
    "                                weights=[embedding_matrix],\n",
    "                                input_length=MAX_SEQ_LENGHT,\n",
    "                                trainable=True)\n",
    "    embedded_sequences = embedding_layer(main_input)\n",
    "    \n",
    "    x = Conv1D(32, 8, activation='relu',padding='same')(embedded_sequences)\n",
    "    x = MaxPooling1D(8)(x)\n",
    "\n",
    "    x = Conv1D(32, 4, activation='softmax',padding='same')(x)\n",
    "    x = AveragePooling1D(4)(x)\n",
    "\n",
    "    #x = Conv1D(64, 4, activation='softmax',padding='same')(x)\n",
    "    #x = MaxPooling1D(3)(x)\n",
    "\n",
    "    #x = Conv1D(64, 4, activation='relu',padding='same')(x)\n",
    "    #x = MaxPooling1D(8)(x)\n",
    "\n",
    "    #x_out = Flatten()(x)\n",
    "\n",
    "   # A LSTM will transform the vector sequence into a single vector,\n",
    "   # containing information about the entire sequence\n",
    "    lstm_out = Bidirectional(LSTM(64,dropout=0.2))(x)\n",
    "\n",
    "   #auxiliary_output = Dense(146, activation='softmax', name='aux_output')(lstm_out)\n",
    "    #auxiliary_output = Dense(6, activation='softmax', name='aux_output')(x_out)\n",
    "    #auxiliary_input = Input(shape=(2954,), name='aux_input')\n",
    "    x = lstm_out #concatenate([x_out, auxiliary_input])\n",
    "\n",
    "    # We stack a deep densely-connected network on top\n",
    "\n",
    "    x = Dense(n1, activation='relu',kernel_regularizer=regularizers.l2(0.00001),\n",
    "              activity_regularizer=regularizers.l1(0.000001))(x)\n",
    "    x = Dropout(0.4)(x)\n",
    "    x = BatchNormalization()(x)\n",
    "\n",
    "    #x = Dense(n2, activation='relu')(x)\n",
    "    #x = Dropout(0.4)(x)\n",
    "    #x = BatchNormalization()(x)\n",
    "    #x = Dense(n3, activation='relu')(x)\n",
    "    #x = Dropout(0.5)(x)\n",
    "    #x = BatchNormalization()(x)\n",
    "    # And finally we add the main logistic regression layer\n",
    "\n",
    "    main_output = Dense(6, activation='sigmoid', name='main_output')(x)\n",
    "    model = Model(inputs=main_input, outputs=main_output)\n",
    "    #adadelta = Adadelta(lr=0.95)\n",
    "    adam = Adam(lr=0.0005, beta_1=0.95, beta_2=0.999, epsilon=10**-8, decay=0.0001, amsgrad=False)\n",
    "    model.compile(optimizer=adam, loss='binary_crossentropy',metrics=['accuracy'])\n",
    "\n",
    "    print(model.summary())\n",
    "    return model"
   ]
  },
  {
   "cell_type": "code",
   "execution_count": 70,
   "metadata": {},
   "outputs": [
    {
     "name": "stdout",
     "output_type": "stream",
     "text": [
      "_________________________________________________________________\n",
      "Layer (type)                 Output Shape              Param #   \n",
      "=================================================================\n",
      "main_input (InputLayer)      (None, 400)               0         \n",
      "_________________________________________________________________\n",
      "embedding_6 (Embedding)      (None, 400, 50)           2632100   \n",
      "_________________________________________________________________\n",
      "conv1d_11 (Conv1D)           (None, 400, 32)           12832     \n",
      "_________________________________________________________________\n",
      "max_pooling1d_6 (MaxPooling1 (None, 50, 32)            0         \n",
      "_________________________________________________________________\n",
      "conv1d_12 (Conv1D)           (None, 50, 32)            4128      \n",
      "_________________________________________________________________\n",
      "average_pooling1d_6 (Average (None, 12, 32)            0         \n",
      "_________________________________________________________________\n",
      "bidirectional_6 (Bidirection (None, 128)               49664     \n",
      "_________________________________________________________________\n",
      "dense_6 (Dense)              (None, 256)               33024     \n",
      "_________________________________________________________________\n",
      "dropout_6 (Dropout)          (None, 256)               0         \n",
      "_________________________________________________________________\n",
      "batch_normalization_6 (Batch (None, 256)               1024      \n",
      "_________________________________________________________________\n",
      "main_output (Dense)          (None, 6)                 1542      \n",
      "=================================================================\n",
      "Total params: 2,734,314\n",
      "Trainable params: 2,733,802\n",
      "Non-trainable params: 512\n",
      "_________________________________________________________________\n",
      "None\n"
     ]
    }
   ],
   "source": [
    "cnn_model = build_nn_wembd(256)"
   ]
  },
  {
   "cell_type": "code",
   "execution_count": 71,
   "metadata": {},
   "outputs": [
    {
     "name": "stdout",
     "output_type": "stream",
     "text": [
      "Train on 143613 samples, validate on 15958 samples\n",
      "Epoch 1/3\n",
      "143613/143613 [==============================] - 96s 666us/step - loss: 0.1023 - acc: 0.9699 - val_loss: 0.0553 - val_acc: 0.9806\n",
      "Epoch 2/3\n",
      "143613/143613 [==============================] - 92s 642us/step - loss: 0.0556 - acc: 0.9805 - val_loss: 0.0534 - val_acc: 0.9808\n",
      "Epoch 3/3\n",
      "143613/143613 [==============================] - 92s 640us/step - loss: 0.0494 - acc: 0.9823 - val_loss: 0.0498 - val_acc: 0.9816\n"
     ]
    },
    {
     "data": {
      "text/plain": [
       "<keras.callbacks.History at 0x7effd8c0f358>"
      ]
     },
     "execution_count": 71,
     "metadata": {},
     "output_type": "execute_result"
    }
   ],
   "source": [
    "cnn_model.fit(X_train_sequences, y_train,\n",
    "        epochs=3, batch_size=64,validation_data=(X_val_sequences,y_val))"
   ]
  },
  {
   "cell_type": "code",
   "execution_count": 72,
   "metadata": {},
   "outputs": [],
   "source": [
    "pred = cnn_model.predict(X_test_sequences)"
   ]
  },
  {
   "cell_type": "code",
   "execution_count": 73,
   "metadata": {},
   "outputs": [],
   "source": [
    "df_pred = pd.DataFrame(pred,columns=['toxic','severe_toxic','obscene','threat','insult','identity_hate'],index=df_test['id'])"
   ]
  },
  {
   "cell_type": "code",
   "execution_count": 74,
   "metadata": {},
   "outputs": [
    {
     "data": {
      "text/html": [
       "<div>\n",
       "<style scoped>\n",
       "    .dataframe tbody tr th:only-of-type {\n",
       "        vertical-align: middle;\n",
       "    }\n",
       "\n",
       "    .dataframe tbody tr th {\n",
       "        vertical-align: top;\n",
       "    }\n",
       "\n",
       "    .dataframe thead th {\n",
       "        text-align: right;\n",
       "    }\n",
       "</style>\n",
       "<table border=\"1\" class=\"dataframe\">\n",
       "  <thead>\n",
       "    <tr style=\"text-align: right;\">\n",
       "      <th></th>\n",
       "      <th>toxic</th>\n",
       "      <th>severe_toxic</th>\n",
       "      <th>obscene</th>\n",
       "      <th>threat</th>\n",
       "      <th>insult</th>\n",
       "      <th>identity_hate</th>\n",
       "    </tr>\n",
       "    <tr>\n",
       "      <th>id</th>\n",
       "      <th></th>\n",
       "      <th></th>\n",
       "      <th></th>\n",
       "      <th></th>\n",
       "      <th></th>\n",
       "      <th></th>\n",
       "    </tr>\n",
       "  </thead>\n",
       "  <tbody>\n",
       "    <tr>\n",
       "      <th>00001cee341fdb12</th>\n",
       "      <td>0.981824</td>\n",
       "      <td>0.111260</td>\n",
       "      <td>0.851449</td>\n",
       "      <td>0.041405</td>\n",
       "      <td>0.727641</td>\n",
       "      <td>0.115655</td>\n",
       "    </tr>\n",
       "    <tr>\n",
       "      <th>0000247867823ef7</th>\n",
       "      <td>0.000484</td>\n",
       "      <td>0.000038</td>\n",
       "      <td>0.000110</td>\n",
       "      <td>0.000086</td>\n",
       "      <td>0.000165</td>\n",
       "      <td>0.000097</td>\n",
       "    </tr>\n",
       "    <tr>\n",
       "      <th>00013b17ad220c46</th>\n",
       "      <td>0.003659</td>\n",
       "      <td>0.000135</td>\n",
       "      <td>0.000619</td>\n",
       "      <td>0.000255</td>\n",
       "      <td>0.000968</td>\n",
       "      <td>0.000356</td>\n",
       "    </tr>\n",
       "    <tr>\n",
       "      <th>00017563c3f7919a</th>\n",
       "      <td>0.000636</td>\n",
       "      <td>0.000044</td>\n",
       "      <td>0.000138</td>\n",
       "      <td>0.000095</td>\n",
       "      <td>0.000201</td>\n",
       "      <td>0.000111</td>\n",
       "    </tr>\n",
       "    <tr>\n",
       "      <th>00017695ad8997eb</th>\n",
       "      <td>0.002811</td>\n",
       "      <td>0.000115</td>\n",
       "      <td>0.000494</td>\n",
       "      <td>0.000222</td>\n",
       "      <td>0.000764</td>\n",
       "      <td>0.000300</td>\n",
       "    </tr>\n",
       "  </tbody>\n",
       "</table>\n",
       "</div>"
      ],
      "text/plain": [
       "                     toxic  severe_toxic   obscene    threat    insult  \\\n",
       "id                                                                       \n",
       "00001cee341fdb12  0.981824      0.111260  0.851449  0.041405  0.727641   \n",
       "0000247867823ef7  0.000484      0.000038  0.000110  0.000086  0.000165   \n",
       "00013b17ad220c46  0.003659      0.000135  0.000619  0.000255  0.000968   \n",
       "00017563c3f7919a  0.000636      0.000044  0.000138  0.000095  0.000201   \n",
       "00017695ad8997eb  0.002811      0.000115  0.000494  0.000222  0.000764   \n",
       "\n",
       "                  identity_hate  \n",
       "id                               \n",
       "00001cee341fdb12       0.115655  \n",
       "0000247867823ef7       0.000097  \n",
       "00013b17ad220c46       0.000356  \n",
       "00017563c3f7919a       0.000111  \n",
       "00017695ad8997eb       0.000300  "
      ]
     },
     "execution_count": 74,
     "metadata": {},
     "output_type": "execute_result"
    }
   ],
   "source": [
    "df_pred.head()"
   ]
  },
  {
   "cell_type": "code",
   "execution_count": 75,
   "metadata": {},
   "outputs": [],
   "source": [
    "df_pred.to_csv('submission.csv')"
   ]
  },
  {
   "cell_type": "code",
   "execution_count": null,
   "metadata": {},
   "outputs": [],
   "source": []
  }
 ],
 "metadata": {
  "kernelspec": {
   "display_name": "Python 3",
   "language": "python",
   "name": "python3"
  },
  "language_info": {
   "codemirror_mode": {
    "name": "ipython",
    "version": 3
   },
   "file_extension": ".py",
   "mimetype": "text/x-python",
   "name": "python",
   "nbconvert_exporter": "python",
   "pygments_lexer": "ipython3",
   "version": "3.7.1"
  }
 },
 "nbformat": 4,
 "nbformat_minor": 4
}
